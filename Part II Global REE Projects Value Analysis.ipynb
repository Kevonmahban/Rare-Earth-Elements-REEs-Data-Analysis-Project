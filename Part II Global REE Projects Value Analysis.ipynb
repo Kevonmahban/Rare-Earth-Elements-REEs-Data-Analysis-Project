{
  "nbformat": 4,
  "nbformat_minor": 0,
  "metadata": {
    "colab": {
      "provenance": []
    },
    "kernelspec": {
      "name": "python3",
      "display_name": "Python 3"
    },
    "language_info": {
      "name": "python"
    }
  },
  "cells": [
    {
      "cell_type": "markdown",
      "source": [
        "creating the new column"
      ],
      "metadata": {
        "id": "T8NmRQwFWjao"
      }
    },
    {
      "cell_type": "code",
      "execution_count": 1,
      "metadata": {
        "colab": {
          "base_uri": "https://localhost:8080/"
        },
        "id": "Co3vKA_PWVFf",
        "outputId": "3730b7a6-25f3-42c3-fb43-bd195d739291"
      },
      "outputs": [
        {
          "output_type": "stream",
          "name": "stdout",
          "text": [
            "                                        Project Name      Continent  \\\n",
            "0                                         Mount Weld      Australia   \n",
            "1                                      Mountain Pass  North America   \n",
            "2                                            Eneabba      Australia   \n",
            "3                                     Dubbo (Toongi)      Australia   \n",
            "4  Kvanefjeld (Ilimaussaq:Kvanefjeld, Zone 3, Sør...      Greenland   \n",
            "5                                           Longonjo         Africa   \n",
            "6                                Tanbreez/Kringlerne      Greenland   \n",
            "7                                         Norra Kärr         Europe   \n",
            "8                                            Olserum         Europe   \n",
            "9                                                Fen         Europe   \n",
            "\n",
            "   Total Scaled Value  \n",
            "0        7.454625e+09  \n",
            "1        6.810700e+09  \n",
            "2        1.452166e+08  \n",
            "3        1.397196e+09  \n",
            "4        2.226007e+10  \n",
            "5        1.072906e+10  \n",
            "6        7.407427e+10  \n",
            "7        5.910910e+08  \n",
            "8        1.491737e+08  \n",
            "9        9.528386e+09  \n"
          ]
        }
      ],
      "source": [
        "import pandas as pd\n",
        "\n",
        "# Load your uploaded cleaned dataset (make sure you've uploaded it first using files.upload())\n",
        "df = pd.read_csv(\"updated_cleaned_ree_data.csv\")\n",
        "\n",
        "# Prices per kg in USD for each REO\n",
        "prices = {\n",
        "    \"La2O3\": 0,         # Optional: use 0 if not relevant\n",
        "    \"Ce2O3\": 0,         # Optional: use 0 if not relevant\n",
        "    \"Pr6O11\": 95.70,\n",
        "    \"Nd2O3\": 95.70,\n",
        "    \"Sm2O3\": 1.945,\n",
        "    \"Eu2O3\": 23.71,\n",
        "    \"Gd2O3\": 30.00,     # Average value\n",
        "    \"Tb4O7\": 796.52,\n",
        "    \"Dy2O3\": 201.87,\n",
        "    \"Ho2O3\": 56.91\n",
        "}\n",
        "\n",
        "# Convert all relevant columns to numeric just in case\n",
        "df[\"Resource (*10^4 t, REO, Total)\"] = pd.to_numeric(df[\"Resource (*10^4 t, REO, Total)\"], errors='coerce')\n",
        "for oxide in prices.keys():\n",
        "    df[oxide] = pd.to_numeric(df[oxide], errors='coerce')\n",
        "\n",
        "# Calculate total scaled value\n",
        "df[\"Total Scaled Value\"] = sum(\n",
        "    df[\"Resource (*10^4 t, REO, Total)\"] * df[oxide] * 10000 * price\n",
        "    for oxide, price in prices.items()\n",
        ")\n",
        "\n",
        "# Preview the new column\n",
        "print(df[[\"Project Name\", \"Continent\", \"Total Scaled Value\"]].head(10))\n"
      ]
    },
    {
      "cell_type": "markdown",
      "source": [
        "Adding the new Column to the excel sheet"
      ],
      "metadata": {
        "id": "QHoUHE82Woth"
      }
    },
    {
      "cell_type": "code",
      "source": [
        "import pandas as pd\n",
        "\n",
        "# Load the existing cleaned data\n",
        "df = pd.read_csv('updated_cleaned_ree_data.csv')\n",
        "\n",
        "# Add the 'Total scaled value' calculation (replace this with your actual formula)\n",
        "# Example calculation (replace with actual columns and formula):\n",
        "df['Total scaled value'] = df['column1'] * df['column2']  # Replace with actual columns and formula\n",
        "\n",
        "# Save the updated data back to a new CSV\n",
        "df.to_csv('/mnt/data/updated_ree_data_with_total_scaled_value.csv', index=False)\n",
        "\n",
        "# Output the first few rows to verify\n",
        "df.head()"
      ],
      "metadata": {
        "colab": {
          "base_uri": "https://localhost:8080/",
          "height": 569
        },
        "id": "iQirkiLeWsbC",
        "outputId": "70003803-7989-4fff-d9c4-82bbd40b9fae"
      },
      "execution_count": 3,
      "outputs": [
        {
          "output_type": "error",
          "ename": "KeyError",
          "evalue": "'column1'",
          "traceback": [
            "\u001b[0;31m---------------------------------------------------------------------------\u001b[0m",
            "\u001b[0;31mKeyError\u001b[0m                                  Traceback (most recent call last)",
            "\u001b[0;32m/usr/local/lib/python3.11/dist-packages/pandas/core/indexes/base.py\u001b[0m in \u001b[0;36mget_loc\u001b[0;34m(self, key)\u001b[0m\n\u001b[1;32m   3804\u001b[0m         \u001b[0;32mtry\u001b[0m\u001b[0;34m:\u001b[0m\u001b[0;34m\u001b[0m\u001b[0;34m\u001b[0m\u001b[0m\n\u001b[0;32m-> 3805\u001b[0;31m             \u001b[0;32mreturn\u001b[0m \u001b[0mself\u001b[0m\u001b[0;34m.\u001b[0m\u001b[0m_engine\u001b[0m\u001b[0;34m.\u001b[0m\u001b[0mget_loc\u001b[0m\u001b[0;34m(\u001b[0m\u001b[0mcasted_key\u001b[0m\u001b[0;34m)\u001b[0m\u001b[0;34m\u001b[0m\u001b[0;34m\u001b[0m\u001b[0m\n\u001b[0m\u001b[1;32m   3806\u001b[0m         \u001b[0;32mexcept\u001b[0m \u001b[0mKeyError\u001b[0m \u001b[0;32mas\u001b[0m \u001b[0merr\u001b[0m\u001b[0;34m:\u001b[0m\u001b[0;34m\u001b[0m\u001b[0;34m\u001b[0m\u001b[0m\n",
            "\u001b[0;32mindex.pyx\u001b[0m in \u001b[0;36mpandas._libs.index.IndexEngine.get_loc\u001b[0;34m()\u001b[0m\n",
            "\u001b[0;32mindex.pyx\u001b[0m in \u001b[0;36mpandas._libs.index.IndexEngine.get_loc\u001b[0;34m()\u001b[0m\n",
            "\u001b[0;32mpandas/_libs/hashtable_class_helper.pxi\u001b[0m in \u001b[0;36mpandas._libs.hashtable.PyObjectHashTable.get_item\u001b[0;34m()\u001b[0m\n",
            "\u001b[0;32mpandas/_libs/hashtable_class_helper.pxi\u001b[0m in \u001b[0;36mpandas._libs.hashtable.PyObjectHashTable.get_item\u001b[0;34m()\u001b[0m\n",
            "\u001b[0;31mKeyError\u001b[0m: 'column1'",
            "\nThe above exception was the direct cause of the following exception:\n",
            "\u001b[0;31mKeyError\u001b[0m                                  Traceback (most recent call last)",
            "\u001b[0;32m<ipython-input-3-344dca32c69b>\u001b[0m in \u001b[0;36m<cell line: 0>\u001b[0;34m()\u001b[0m\n\u001b[1;32m      6\u001b[0m \u001b[0;31m# Add the 'Total scaled value' calculation (replace this with your actual formula)\u001b[0m\u001b[0;34m\u001b[0m\u001b[0;34m\u001b[0m\u001b[0m\n\u001b[1;32m      7\u001b[0m \u001b[0;31m# Example calculation (replace with actual columns and formula):\u001b[0m\u001b[0;34m\u001b[0m\u001b[0;34m\u001b[0m\u001b[0m\n\u001b[0;32m----> 8\u001b[0;31m \u001b[0mdf\u001b[0m\u001b[0;34m[\u001b[0m\u001b[0;34m'Total scaled value'\u001b[0m\u001b[0;34m]\u001b[0m \u001b[0;34m=\u001b[0m \u001b[0mdf\u001b[0m\u001b[0;34m[\u001b[0m\u001b[0;34m'column1'\u001b[0m\u001b[0;34m]\u001b[0m \u001b[0;34m*\u001b[0m \u001b[0mdf\u001b[0m\u001b[0;34m[\u001b[0m\u001b[0;34m'column2'\u001b[0m\u001b[0;34m]\u001b[0m  \u001b[0;31m# Replace with actual columns and formula\u001b[0m\u001b[0;34m\u001b[0m\u001b[0;34m\u001b[0m\u001b[0m\n\u001b[0m\u001b[1;32m      9\u001b[0m \u001b[0;34m\u001b[0m\u001b[0m\n\u001b[1;32m     10\u001b[0m \u001b[0;31m# Save the updated data back to a new CSV\u001b[0m\u001b[0;34m\u001b[0m\u001b[0;34m\u001b[0m\u001b[0m\n",
            "\u001b[0;32m/usr/local/lib/python3.11/dist-packages/pandas/core/frame.py\u001b[0m in \u001b[0;36m__getitem__\u001b[0;34m(self, key)\u001b[0m\n\u001b[1;32m   4100\u001b[0m             \u001b[0;32mif\u001b[0m \u001b[0mself\u001b[0m\u001b[0;34m.\u001b[0m\u001b[0mcolumns\u001b[0m\u001b[0;34m.\u001b[0m\u001b[0mnlevels\u001b[0m \u001b[0;34m>\u001b[0m \u001b[0;36m1\u001b[0m\u001b[0;34m:\u001b[0m\u001b[0;34m\u001b[0m\u001b[0;34m\u001b[0m\u001b[0m\n\u001b[1;32m   4101\u001b[0m                 \u001b[0;32mreturn\u001b[0m \u001b[0mself\u001b[0m\u001b[0;34m.\u001b[0m\u001b[0m_getitem_multilevel\u001b[0m\u001b[0;34m(\u001b[0m\u001b[0mkey\u001b[0m\u001b[0;34m)\u001b[0m\u001b[0;34m\u001b[0m\u001b[0;34m\u001b[0m\u001b[0m\n\u001b[0;32m-> 4102\u001b[0;31m             \u001b[0mindexer\u001b[0m \u001b[0;34m=\u001b[0m \u001b[0mself\u001b[0m\u001b[0;34m.\u001b[0m\u001b[0mcolumns\u001b[0m\u001b[0;34m.\u001b[0m\u001b[0mget_loc\u001b[0m\u001b[0;34m(\u001b[0m\u001b[0mkey\u001b[0m\u001b[0;34m)\u001b[0m\u001b[0;34m\u001b[0m\u001b[0;34m\u001b[0m\u001b[0m\n\u001b[0m\u001b[1;32m   4103\u001b[0m             \u001b[0;32mif\u001b[0m \u001b[0mis_integer\u001b[0m\u001b[0;34m(\u001b[0m\u001b[0mindexer\u001b[0m\u001b[0;34m)\u001b[0m\u001b[0;34m:\u001b[0m\u001b[0;34m\u001b[0m\u001b[0;34m\u001b[0m\u001b[0m\n\u001b[1;32m   4104\u001b[0m                 \u001b[0mindexer\u001b[0m \u001b[0;34m=\u001b[0m \u001b[0;34m[\u001b[0m\u001b[0mindexer\u001b[0m\u001b[0;34m]\u001b[0m\u001b[0;34m\u001b[0m\u001b[0;34m\u001b[0m\u001b[0m\n",
            "\u001b[0;32m/usr/local/lib/python3.11/dist-packages/pandas/core/indexes/base.py\u001b[0m in \u001b[0;36mget_loc\u001b[0;34m(self, key)\u001b[0m\n\u001b[1;32m   3810\u001b[0m             ):\n\u001b[1;32m   3811\u001b[0m                 \u001b[0;32mraise\u001b[0m \u001b[0mInvalidIndexError\u001b[0m\u001b[0;34m(\u001b[0m\u001b[0mkey\u001b[0m\u001b[0;34m)\u001b[0m\u001b[0;34m\u001b[0m\u001b[0;34m\u001b[0m\u001b[0m\n\u001b[0;32m-> 3812\u001b[0;31m             \u001b[0;32mraise\u001b[0m \u001b[0mKeyError\u001b[0m\u001b[0;34m(\u001b[0m\u001b[0mkey\u001b[0m\u001b[0;34m)\u001b[0m \u001b[0;32mfrom\u001b[0m \u001b[0merr\u001b[0m\u001b[0;34m\u001b[0m\u001b[0;34m\u001b[0m\u001b[0m\n\u001b[0m\u001b[1;32m   3813\u001b[0m         \u001b[0;32mexcept\u001b[0m \u001b[0mTypeError\u001b[0m\u001b[0;34m:\u001b[0m\u001b[0;34m\u001b[0m\u001b[0;34m\u001b[0m\u001b[0m\n\u001b[1;32m   3814\u001b[0m             \u001b[0;31m# If we have a listlike key, _check_indexing_error will raise\u001b[0m\u001b[0;34m\u001b[0m\u001b[0;34m\u001b[0m\u001b[0m\n",
            "\u001b[0;31mKeyError\u001b[0m: 'column1'"
          ]
        }
      ]
    },
    {
      "cell_type": "code",
      "source": [
        "import pandas as pd\n",
        "\n",
        "# Load the existing cleaned data\n",
        "df = pd.read_csv('updated_cleaned_ree_data.csv')\n",
        "\n",
        "# Display the column names to find the right ones\n",
        "print(df.columns)"
      ],
      "metadata": {
        "colab": {
          "base_uri": "https://localhost:8080/"
        },
        "id": "ouZVxi0-XKEZ",
        "outputId": "b8524293-83c7-41e3-f563-f4d8e8597895"
      },
      "execution_count": 5,
      "outputs": [
        {
          "output_type": "stream",
          "name": "stdout",
          "text": [
            "Index(['Project No.', 'Deposit No.', 'Company Name', 'Project Name',\n",
            "       'Location', 'Continent',\n",
            "       'Status (2022), 1: Exploration/ Define resource; 2: Feasibility/ Pre-feasibility; 3: Construction; 4: Production; S: Suspending mining; T: Test of Metallurgical; D: Development licence; N: Not Use',\n",
            "       'Deposit type', 'Resource (*10^4 t, REO, Total)', 'Grade (wt. %)',\n",
            "       'La2O3', 'Ce2O3', 'Pr6O11', 'Nd2O3', 'Sm2O3', 'Eu2O3', 'Gd2O3', 'Tb4O7',\n",
            "       'Dy2O3', 'Ho2O3', 'Er2O3', 'Tm2O3', 'Yb2O3', 'Lu2O3', 'Y2O3',\n",
            "       'HREE percentage', 'REE pattern Ref.', 'Project and status Ref.',\n",
            "       'Deposit type Ref.', 'Resource and grade Ref.'],\n",
            "      dtype='object')\n"
          ]
        }
      ]
    },
    {
      "cell_type": "code",
      "source": [
        "df.to_csv('updated_ree_data_with_total_scaled_value.csv', index=False)\n",
        "\n",
        "# Display the first few rows to confirm\n",
        "print(df.head())"
      ],
      "metadata": {
        "colab": {
          "base_uri": "https://localhost:8080/"
        },
        "id": "lmo77d_aXd5a",
        "outputId": "1534b217-f8d0-4d7a-e313-cd93a6edeaf4"
      },
      "execution_count": 8,
      "outputs": [
        {
          "output_type": "stream",
          "name": "stdout",
          "text": [
            "   Project No.  Deposit No.                    Company Name  \\\n",
            "0          1.0          1.0               Lynas Rare Earths   \n",
            "1          2.0          2.0                    MP Materials   \n",
            "2          3.0          3.0         Iluka Resources Limited   \n",
            "3          5.0          5.0  Australian Strategic Materials   \n",
            "4          6.0          6.0      Greenland Minerals Limited   \n",
            "\n",
            "                                        Project Name  \\\n",
            "0                                         Mount Weld   \n",
            "1                                      Mountain Pass   \n",
            "2                                            Eneabba   \n",
            "3                                     Dubbo (Toongi)   \n",
            "4  Kvanefjeld (Ilimaussaq:Kvanefjeld, Zone 3, Sør...   \n",
            "\n",
            "                                     Location      Continent  \\\n",
            "0                       Mount Weld, Australia      Australia   \n",
            "1  Central Mojave Desert, California, America  North America   \n",
            "2       Eneabba, Western Australia, Australia      Australia   \n",
            "3           Dubbo, New South Wales, Australia      Australia   \n",
            "4                           Narsaq, Greenland      Greenland   \n",
            "\n",
            "  Status (2022), 1: Exploration/ Define resource; 2: Feasibility/ Pre-feasibility; 3: Construction; 4: Production; S: Suspending mining; T: Test of Metallurgical; D: Development licence; N: Not Use  \\\n",
            "0                                                  4                                                                                                                                                    \n",
            "1                                                  4                                                                                                                                                    \n",
            "2                                                  4                                                                                                                                                    \n",
            "3                                            4(2022)                                                                                                                                                    \n",
            "4                                                  2                                                                                                                                                    \n",
            "\n",
            "    Deposit type  Resource (*10^4 t, REO, Total)  Grade (wt. %)  ...  \\\n",
            "0    Carbonatite                          300.00           5.40  ...   \n",
            "1    Carbonatite                          418.30           8.90  ...   \n",
            "2         Placer                            7.29           0.09  ...   \n",
            "3  Alkaline rock                           55.63           0.74  ...   \n",
            "4  Alkaline rock                         1114.00           1.10  ...   \n",
            "\n",
            "         Er2O3        Tm2O3     Yb2O3        Lu2O3       Y2O3  \\\n",
            "0  0.139523085  0.012683917  0.063420            0   1.775748   \n",
            "1  0.015229973  0.015229973  0.015230  0.015229973   0.106610   \n",
            "2  0.478281399  0.067454059  0.439415  0.052035988   6.422911   \n",
            "3  1.124859393  0.112485939  1.012373  0.112485939  15.860517   \n",
            "4  0.555555556  0.092592593  0.462963  0.185185185   7.870370   \n",
            "\n",
            "   HREE percentage                                   REE pattern Ref.  \\\n",
            "0         3.970066                         Paulick and Machacek ,2017   \n",
            "1         0.487359                         Paulick and Machacek ,2017   \n",
            "2        10.080206                          Jaireth et al., 2014, OGR   \n",
            "3        23.059618  Paulick, H., & Machacek, E. (2017). The global...   \n",
            "4        11.759259  Paulick, H., & Machacek, E. (2017). The global...   \n",
            "\n",
            "                             Project and status Ref.  \\\n",
            "0  Lynas, Annual Report 2021, https://lynasrareea...   \n",
            "1                     https://mpmaterials.com/about/   \n",
            "2  ILUKA, ENEABBA MINERAL SANDS RECOVERY PROJECT ...   \n",
            "3  https://asm-au.com/dubbo-project-overview/reso...   \n",
            "4  https://ggg.gl/project/geology-and-resource/?P...   \n",
            "\n",
            "                                   Deposit type Ref.  \\\n",
            "0  Lynas, Lynas Rare Earths Limited CLSA Explorat...   \n",
            "1  Long, K.R., Van Gosen, B.S., Foley, N.K., and ...   \n",
            "2  ILUKA, ENEABBA MINERAL SANDS RECOVERY PROJECT ...   \n",
            "3  Spandler, C., & Morris, C. (2016). Geology and...   \n",
            "4       https://ggg.gl/project/geology-and-resource/   \n",
            "\n",
            "                             Resource and grade Ref.  \n",
            "0  Lynas, Lynas Rare Earths Limited CLSA Explorat...  \n",
            "1  Long, K.R., Van Gosen, B.S., Foley, N.K., and ...  \n",
            "2  ILUKA, ENEABBA MINERAL SANDS RECOVERY PROJECT ...  \n",
            "3  Australian Strategic Materials, Annual Report ...  \n",
            "4  Greenland Minerals Limited, Positioning Greenl...  \n",
            "\n",
            "[5 rows x 30 columns]\n"
          ]
        }
      ]
    },
    {
      "cell_type": "code",
      "source": [
        "import pandas as pd\n",
        "\n",
        "# Load the updated data\n",
        "df_updated = pd.read_csv('updated_ree_data_with_total_scaled_value.csv')\n",
        "\n",
        "# Display the first few rows to confirm if the 'Total Scaled Value' column was added\n",
        "print(df_updated[[\"Project Name\", \"Continent\", \"Total Scaled Value\"]].head(10))\n"
      ],
      "metadata": {
        "colab": {
          "base_uri": "https://localhost:8080/",
          "height": 333
        },
        "id": "xr0vb7AeZc4Q",
        "outputId": "e07b0a45-6a70-4d95-bfb9-189807c40afd"
      },
      "execution_count": 9,
      "outputs": [
        {
          "output_type": "error",
          "ename": "KeyError",
          "evalue": "\"['Total Scaled Value'] not in index\"",
          "traceback": [
            "\u001b[0;31m---------------------------------------------------------------------------\u001b[0m",
            "\u001b[0;31mKeyError\u001b[0m                                  Traceback (most recent call last)",
            "\u001b[0;32m<ipython-input-9-85801362cd11>\u001b[0m in \u001b[0;36m<cell line: 0>\u001b[0;34m()\u001b[0m\n\u001b[1;32m      5\u001b[0m \u001b[0;34m\u001b[0m\u001b[0m\n\u001b[1;32m      6\u001b[0m \u001b[0;31m# Display the first few rows to confirm if the 'Total Scaled Value' column was added\u001b[0m\u001b[0;34m\u001b[0m\u001b[0;34m\u001b[0m\u001b[0m\n\u001b[0;32m----> 7\u001b[0;31m \u001b[0mprint\u001b[0m\u001b[0;34m(\u001b[0m\u001b[0mdf_updated\u001b[0m\u001b[0;34m[\u001b[0m\u001b[0;34m[\u001b[0m\u001b[0;34m\"Project Name\"\u001b[0m\u001b[0;34m,\u001b[0m \u001b[0;34m\"Continent\"\u001b[0m\u001b[0;34m,\u001b[0m \u001b[0;34m\"Total Scaled Value\"\u001b[0m\u001b[0;34m]\u001b[0m\u001b[0;34m]\u001b[0m\u001b[0;34m.\u001b[0m\u001b[0mhead\u001b[0m\u001b[0;34m(\u001b[0m\u001b[0;36m10\u001b[0m\u001b[0;34m)\u001b[0m\u001b[0;34m)\u001b[0m\u001b[0;34m\u001b[0m\u001b[0;34m\u001b[0m\u001b[0m\n\u001b[0m",
            "\u001b[0;32m/usr/local/lib/python3.11/dist-packages/pandas/core/frame.py\u001b[0m in \u001b[0;36m__getitem__\u001b[0;34m(self, key)\u001b[0m\n\u001b[1;32m   4106\u001b[0m             \u001b[0;32mif\u001b[0m \u001b[0mis_iterator\u001b[0m\u001b[0;34m(\u001b[0m\u001b[0mkey\u001b[0m\u001b[0;34m)\u001b[0m\u001b[0;34m:\u001b[0m\u001b[0;34m\u001b[0m\u001b[0;34m\u001b[0m\u001b[0m\n\u001b[1;32m   4107\u001b[0m                 \u001b[0mkey\u001b[0m \u001b[0;34m=\u001b[0m \u001b[0mlist\u001b[0m\u001b[0;34m(\u001b[0m\u001b[0mkey\u001b[0m\u001b[0;34m)\u001b[0m\u001b[0;34m\u001b[0m\u001b[0;34m\u001b[0m\u001b[0m\n\u001b[0;32m-> 4108\u001b[0;31m             \u001b[0mindexer\u001b[0m \u001b[0;34m=\u001b[0m \u001b[0mself\u001b[0m\u001b[0;34m.\u001b[0m\u001b[0mcolumns\u001b[0m\u001b[0;34m.\u001b[0m\u001b[0m_get_indexer_strict\u001b[0m\u001b[0;34m(\u001b[0m\u001b[0mkey\u001b[0m\u001b[0;34m,\u001b[0m \u001b[0;34m\"columns\"\u001b[0m\u001b[0;34m)\u001b[0m\u001b[0;34m[\u001b[0m\u001b[0;36m1\u001b[0m\u001b[0;34m]\u001b[0m\u001b[0;34m\u001b[0m\u001b[0;34m\u001b[0m\u001b[0m\n\u001b[0m\u001b[1;32m   4109\u001b[0m \u001b[0;34m\u001b[0m\u001b[0m\n\u001b[1;32m   4110\u001b[0m         \u001b[0;31m# take() does not accept boolean indexers\u001b[0m\u001b[0;34m\u001b[0m\u001b[0;34m\u001b[0m\u001b[0m\n",
            "\u001b[0;32m/usr/local/lib/python3.11/dist-packages/pandas/core/indexes/base.py\u001b[0m in \u001b[0;36m_get_indexer_strict\u001b[0;34m(self, key, axis_name)\u001b[0m\n\u001b[1;32m   6198\u001b[0m             \u001b[0mkeyarr\u001b[0m\u001b[0;34m,\u001b[0m \u001b[0mindexer\u001b[0m\u001b[0;34m,\u001b[0m \u001b[0mnew_indexer\u001b[0m \u001b[0;34m=\u001b[0m \u001b[0mself\u001b[0m\u001b[0;34m.\u001b[0m\u001b[0m_reindex_non_unique\u001b[0m\u001b[0;34m(\u001b[0m\u001b[0mkeyarr\u001b[0m\u001b[0;34m)\u001b[0m\u001b[0;34m\u001b[0m\u001b[0;34m\u001b[0m\u001b[0m\n\u001b[1;32m   6199\u001b[0m \u001b[0;34m\u001b[0m\u001b[0m\n\u001b[0;32m-> 6200\u001b[0;31m         \u001b[0mself\u001b[0m\u001b[0;34m.\u001b[0m\u001b[0m_raise_if_missing\u001b[0m\u001b[0;34m(\u001b[0m\u001b[0mkeyarr\u001b[0m\u001b[0;34m,\u001b[0m \u001b[0mindexer\u001b[0m\u001b[0;34m,\u001b[0m \u001b[0maxis_name\u001b[0m\u001b[0;34m)\u001b[0m\u001b[0;34m\u001b[0m\u001b[0;34m\u001b[0m\u001b[0m\n\u001b[0m\u001b[1;32m   6201\u001b[0m \u001b[0;34m\u001b[0m\u001b[0m\n\u001b[1;32m   6202\u001b[0m         \u001b[0mkeyarr\u001b[0m \u001b[0;34m=\u001b[0m \u001b[0mself\u001b[0m\u001b[0;34m.\u001b[0m\u001b[0mtake\u001b[0m\u001b[0;34m(\u001b[0m\u001b[0mindexer\u001b[0m\u001b[0;34m)\u001b[0m\u001b[0;34m\u001b[0m\u001b[0;34m\u001b[0m\u001b[0m\n",
            "\u001b[0;32m/usr/local/lib/python3.11/dist-packages/pandas/core/indexes/base.py\u001b[0m in \u001b[0;36m_raise_if_missing\u001b[0;34m(self, key, indexer, axis_name)\u001b[0m\n\u001b[1;32m   6250\u001b[0m \u001b[0;34m\u001b[0m\u001b[0m\n\u001b[1;32m   6251\u001b[0m             \u001b[0mnot_found\u001b[0m \u001b[0;34m=\u001b[0m \u001b[0mlist\u001b[0m\u001b[0;34m(\u001b[0m\u001b[0mensure_index\u001b[0m\u001b[0;34m(\u001b[0m\u001b[0mkey\u001b[0m\u001b[0;34m)\u001b[0m\u001b[0;34m[\u001b[0m\u001b[0mmissing_mask\u001b[0m\u001b[0;34m.\u001b[0m\u001b[0mnonzero\u001b[0m\u001b[0;34m(\u001b[0m\u001b[0;34m)\u001b[0m\u001b[0;34m[\u001b[0m\u001b[0;36m0\u001b[0m\u001b[0;34m]\u001b[0m\u001b[0;34m]\u001b[0m\u001b[0;34m.\u001b[0m\u001b[0munique\u001b[0m\u001b[0;34m(\u001b[0m\u001b[0;34m)\u001b[0m\u001b[0;34m)\u001b[0m\u001b[0;34m\u001b[0m\u001b[0;34m\u001b[0m\u001b[0m\n\u001b[0;32m-> 6252\u001b[0;31m             \u001b[0;32mraise\u001b[0m \u001b[0mKeyError\u001b[0m\u001b[0;34m(\u001b[0m\u001b[0;34mf\"{not_found} not in index\"\u001b[0m\u001b[0;34m)\u001b[0m\u001b[0;34m\u001b[0m\u001b[0;34m\u001b[0m\u001b[0m\n\u001b[0m\u001b[1;32m   6253\u001b[0m \u001b[0;34m\u001b[0m\u001b[0m\n\u001b[1;32m   6254\u001b[0m     \u001b[0;34m@\u001b[0m\u001b[0moverload\u001b[0m\u001b[0;34m\u001b[0m\u001b[0;34m\u001b[0m\u001b[0m\n",
            "\u001b[0;31mKeyError\u001b[0m: \"['Total Scaled Value'] not in index\""
          ]
        }
      ]
    },
    {
      "cell_type": "code",
      "source": [
        "import pandas as pd\n",
        "\n",
        "# Load the updated data\n",
        "df_updated = pd.read_csv('updated_ree_data_with_total_scaled_value.csv')\n",
        "\n",
        "# Display the column names to check if 'Total Scaled Value' is present\n",
        "print(df_updated.columns)"
      ],
      "metadata": {
        "colab": {
          "base_uri": "https://localhost:8080/"
        },
        "id": "MX-rtb1aZuew",
        "outputId": "67bd410b-711a-4380-f320-4a9af56d4836"
      },
      "execution_count": 11,
      "outputs": [
        {
          "output_type": "stream",
          "name": "stdout",
          "text": [
            "Index(['Project No.', 'Deposit No.', 'Company Name', 'Project Name',\n",
            "       'Location', 'Continent',\n",
            "       'Status (2022), 1: Exploration/ Define resource; 2: Feasibility/ Pre-feasibility; 3: Construction; 4: Production; S: Suspending mining; T: Test of Metallurgical; D: Development licence; N: Not Use',\n",
            "       'Deposit type', 'Resource (*10^4 t, REO, Total)', 'Grade (wt. %)',\n",
            "       'La2O3', 'Ce2O3', 'Pr6O11', 'Nd2O3', 'Sm2O3', 'Eu2O3', 'Gd2O3', 'Tb4O7',\n",
            "       'Dy2O3', 'Ho2O3', 'Er2O3', 'Tm2O3', 'Yb2O3', 'Lu2O3', 'Y2O3',\n",
            "       'HREE percentage', 'REE pattern Ref.', 'Project and status Ref.',\n",
            "       'Deposit type Ref.', 'Resource and grade Ref.'],\n",
            "      dtype='object')\n"
          ]
        }
      ]
    },
    {
      "cell_type": "code",
      "source": [
        "import pandas as pd\n",
        "\n",
        "# Load the original dataset again\n",
        "df = pd.read_csv('updated_cleaned_ree_data.csv')\n",
        "\n",
        "# Prices per kg in USD for each REO\n",
        "prices = {\n",
        "    \"La2O3\": 0,         # Optional: use 0 if not relevant\n",
        "    \"Ce2O3\": 0,         # Optional: use 0 if not relevant\n",
        "    \"Pr6O11\": 95.70,\n",
        "    \"Nd2O3\": 95.70,\n",
        "    \"Sm2O3\": 1.945,\n",
        "    \"Eu2O3\": 23.71,\n",
        "    \"Gd2O3\": 30.00,     # Average value\n",
        "    \"Tb4O7\": 796.52,\n",
        "    \"Dy2O3\": 201.87,\n",
        "    \"Ho2O3\": 56.91\n",
        "}\n",
        "\n",
        "# Convert all relevant columns to numeric just in case\n",
        "df[\"Resource (*10^4 t, REO, Total)\"] = pd.to_numeric(df[\"Resource (*10^4 t, REO, Total)\"], errors='coerce')\n",
        "for oxide in prices.keys():\n",
        "    df[oxide] = pd.to_numeric(df[oxide], errors='coerce')\n",
        "\n",
        "# Calculate total scaled value\n",
        "df[\"Total Scaled Value\"] = sum(\n",
        "    df[\"Resource (*10^4 t, REO, Total)\"] * df[oxide] * 10000 * price\n",
        "    for oxide, price in prices.items()\n",
        ")\n",
        "\n",
        "# Save the updated DataFrame to a new CSV file\n",
        "df.to_csv('updated_ree_data_with_total_scaled_value.csv', index=False)\n",
        "\n",
        "# Display the first few rows to confirm\n",
        "print(df[[\"Project Name\", \"Continent\", \"Total Scaled Value\"]].head(10))"
      ],
      "metadata": {
        "colab": {
          "base_uri": "https://localhost:8080/"
        },
        "id": "b3WBqN_MaJHo",
        "outputId": "326bf4a6-6aa2-4265-e5b3-69f5fffcc068"
      },
      "execution_count": 12,
      "outputs": [
        {
          "output_type": "stream",
          "name": "stdout",
          "text": [
            "                                        Project Name      Continent  \\\n",
            "0                                         Mount Weld      Australia   \n",
            "1                                      Mountain Pass  North America   \n",
            "2                                            Eneabba      Australia   \n",
            "3                                     Dubbo (Toongi)      Australia   \n",
            "4  Kvanefjeld (Ilimaussaq:Kvanefjeld, Zone 3, Sør...      Greenland   \n",
            "5                                           Longonjo         Africa   \n",
            "6                                Tanbreez/Kringlerne      Greenland   \n",
            "7                                         Norra Kärr         Europe   \n",
            "8                                            Olserum         Europe   \n",
            "9                                                Fen         Europe   \n",
            "\n",
            "   Total Scaled Value  \n",
            "0        7.454625e+09  \n",
            "1        6.810700e+09  \n",
            "2        1.452166e+08  \n",
            "3        1.397196e+09  \n",
            "4        2.226007e+10  \n",
            "5        1.072906e+10  \n",
            "6        7.407427e+10  \n",
            "7        5.910910e+08  \n",
            "8        1.491737e+08  \n",
            "9        9.528386e+09  \n"
          ]
        }
      ]
    },
    {
      "cell_type": "code",
      "source": [
        "import pandas as pd\n",
        "\n",
        "# Load the original dataset again\n",
        "df = pd.read_csv('updated_cleaned_ree_data.csv')\n",
        "\n",
        "# Prices per kg in USD for each REO\n",
        "prices = {\n",
        "    \"La2O3\": 0,         # Optional: use 0 if not relevant\n",
        "    \"Ce2O3\": 0,         # Optional: use 0 if not relevant\n",
        "    \"Pr6O11\": 95.70,\n",
        "    \"Nd2O3\": 95.70,\n",
        "    \"Sm2O3\": 1.945,\n",
        "    \"Eu2O3\": 23.71,\n",
        "    \"Gd2O3\": 30.00,     # Average value\n",
        "    \"Tb4O7\": 796.52,\n",
        "    \"Dy2O3\": 201.87,\n",
        "    \"Ho2O3\": 56.91\n",
        "}\n",
        "\n",
        "# Convert all relevant columns to numeric just in case\n",
        "df[\"Resource (*10^4 t, REO, Total)\"] = pd.to_numeric(df[\"Resource (*10^4 t, REO, Total)\"], errors='coerce')\n",
        "for oxide in prices.keys():\n",
        "    df[oxide] = pd.to_numeric(df[oxide], errors='coerce')\n",
        "\n",
        "# Calculate total scaled value\n",
        "df[\"Total Scaled Value\"] = sum(\n",
        "    df[\"Resource (*10^4 t, REO, Total)\"] * df[oxide] * 10000 * price\n",
        "    for oxide, price in prices.items()\n",
        ")\n",
        "\n",
        "# Overwrite the existing CSV file with the updated data\n",
        "df.to_csv('updated_cleaned_ree_data.csv', index=False)\n",
        "\n",
        "# Display the first few rows to confirm the update\n",
        "print(df[[\"Project Name\", \"Continent\", \"Total Scaled Value\"]].head(10))"
      ],
      "metadata": {
        "colab": {
          "base_uri": "https://localhost:8080/"
        },
        "id": "dOd4dYGAabwH",
        "outputId": "db347e3c-e141-4a78-f763-8923f423756d"
      },
      "execution_count": 13,
      "outputs": [
        {
          "output_type": "stream",
          "name": "stdout",
          "text": [
            "                                        Project Name      Continent  \\\n",
            "0                                         Mount Weld      Australia   \n",
            "1                                      Mountain Pass  North America   \n",
            "2                                            Eneabba      Australia   \n",
            "3                                     Dubbo (Toongi)      Australia   \n",
            "4  Kvanefjeld (Ilimaussaq:Kvanefjeld, Zone 3, Sør...      Greenland   \n",
            "5                                           Longonjo         Africa   \n",
            "6                                Tanbreez/Kringlerne      Greenland   \n",
            "7                                         Norra Kärr         Europe   \n",
            "8                                            Olserum         Europe   \n",
            "9                                                Fen         Europe   \n",
            "\n",
            "   Total Scaled Value  \n",
            "0        7.454625e+09  \n",
            "1        6.810700e+09  \n",
            "2        1.452166e+08  \n",
            "3        1.397196e+09  \n",
            "4        2.226007e+10  \n",
            "5        1.072906e+10  \n",
            "6        7.407427e+10  \n",
            "7        5.910910e+08  \n",
            "8        1.491737e+08  \n",
            "9        9.528386e+09  \n"
          ]
        }
      ]
    }
  ]
}